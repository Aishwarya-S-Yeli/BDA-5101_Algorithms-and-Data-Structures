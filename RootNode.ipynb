{
 "cells": [
  {
   "cell_type": "markdown",
   "metadata": {},
   "source": [
    "4. Given the root node of binary tree, write a program that will compute the following \n",
    "\n",
    "        a. The number of leaf nodes \n",
    "\n",
    "        b. Total number of nodes in the tree. \n",
    "\n",
    "        c. Display all the values of the nodes\n"
   ]
  },
  {
   "cell_type": "code",
   "execution_count": 1,
   "metadata": {},
   "outputs": [
    {
     "name": "stdout",
     "output_type": "stream",
     "text": [
      "Number of leaf nodes: 3\n",
      "Total number of nodes in the tree: 5\n",
      "Values of all nodes:\n",
      "4 2 5 1 3 "
     ]
    }
   ],
   "source": [
    "class Node:\n",
    "    def __init__(self, value):\n",
    "        self.value = value\n",
    "        self.left = None\n",
    "        self.right = None\n",
    "\n",
    "def count_leaf_nodes(node):\n",
    "    if node is None:\n",
    "        return 0\n",
    "    if node.left is None and node.right is None:\n",
    "        return 1\n",
    "    return count_leaf_nodes(node.left) + count_leaf_nodes(node.right)\n",
    "\n",
    "def count_total_nodes(node):\n",
    "    if node is None:\n",
    "        return 0\n",
    "    return 1 + count_total_nodes(node.left) + count_total_nodes(node.right)\n",
    "\n",
    "def display_all_values(node):\n",
    "    if node:\n",
    "        display_all_values(node.left)\n",
    "        print(node.value, end=\" \")\n",
    "        display_all_values(node.right)\n",
    "\n",
    "# Example usage:\n",
    "root = Node(1)\n",
    "root.left = Node(2)\n",
    "root.right = Node(3)\n",
    "root.left.left = Node(4)\n",
    "root.left.right = Node(5)\n",
    "\n",
    "# a. Compute the number of leaf nodes\n",
    "leaf_node_count = count_leaf_nodes(root)\n",
    "print(\"Number of leaf nodes:\", leaf_node_count)\n",
    "\n",
    "# b. Compute the total number of nodes in the tree\n",
    "total_node_count = count_total_nodes(root)\n",
    "print(\"Total number of nodes in the tree:\", total_node_count)\n",
    "\n",
    "# c. Display all values of the nodes\n",
    "print(\"Values of all nodes:\")\n",
    "display_all_values(root)"
   ]
  }
 ],
 "metadata": {
  "kernelspec": {
   "display_name": "pycaretenv",
   "language": "python",
   "name": "python3"
  },
  "language_info": {
   "codemirror_mode": {
    "name": "ipython",
    "version": 3
   },
   "file_extension": ".py",
   "mimetype": "text/x-python",
   "name": "python",
   "nbconvert_exporter": "python",
   "pygments_lexer": "ipython3",
   "version": "3.9.17"
  }
 },
 "nbformat": 4,
 "nbformat_minor": 2
}
