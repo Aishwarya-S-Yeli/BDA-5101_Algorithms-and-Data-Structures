{
 "cells": [
  {
   "cell_type": "markdown",
   "metadata": {},
   "source": [
    "8. Create a graph using adjacency list and display the connected components using DFS."
   ]
  },
  {
   "cell_type": "code",
   "execution_count": 1,
   "metadata": {},
   "outputs": [
    {
     "name": "stdout",
     "output_type": "stream",
     "text": [
      "Connected Components:\n",
      "[0, 1, 2]\n",
      "[3, 4]\n"
     ]
    }
   ],
   "source": [
    "class Graph:\n",
    "    def __init__(self):\n",
    "        self.graph = {}\n",
    "\n",
    "    def add_edge(self, u, v):\n",
    "        if u in self.graph:\n",
    "            self.graph[u].append(v)\n",
    "        else:\n",
    "            self.graph[u] = [v]\n",
    "\n",
    "    def dfs(self, node, visited, component):\n",
    "        visited.add(node)\n",
    "        component.append(node)\n",
    "        for neighbor in self.graph.get(node, []):\n",
    "            if neighbor not in visited:\n",
    "                self.dfs(neighbor, visited, component)\n",
    "\n",
    "    def connected_components(self):\n",
    "        visited = set()\n",
    "        components = []\n",
    "        for node in self.graph:\n",
    "            if node not in visited:\n",
    "                component = []\n",
    "                self.dfs(node, visited, component)\n",
    "                components.append(component)\n",
    "        return components\n",
    "\n",
    "# Example usage:\n",
    "g = Graph()\n",
    "g.add_edge(0, 1)\n",
    "g.add_edge(0, 2)\n",
    "g.add_edge(3, 4)\n",
    "\n",
    "connected_components = g.connected_components()\n",
    "\n",
    "print(\"Connected Components:\")\n",
    "for component in connected_components:\n",
    "    print(component)"
   ]
  }
 ],
 "metadata": {
  "kernelspec": {
   "display_name": "pycaretenv",
   "language": "python",
   "name": "python3"
  },
  "language_info": {
   "codemirror_mode": {
    "name": "ipython",
    "version": 3
   },
   "file_extension": ".py",
   "mimetype": "text/x-python",
   "name": "python",
   "nbconvert_exporter": "python",
   "pygments_lexer": "ipython3",
   "version": "3.9.17"
  }
 },
 "nbformat": 4,
 "nbformat_minor": 2
}
