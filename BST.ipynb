{
 "cells": [
  {
   "cell_type": "markdown",
   "metadata": {},
   "source": [
    "2. WAP to create and delete a node from a binary Search tree. Traverse the BST using Level Order Traversing Technique."
   ]
  },
  {
   "cell_type": "code",
   "execution_count": 1,
   "metadata": {},
   "outputs": [
    {
     "name": "stdout",
     "output_type": "stream",
     "text": [
      "Level Order Traversal (Breadth-First Traversal):\n",
      "50 30 70 20 40 60 80 \n",
      "Level Order Traversal after deleting node with key 30:\n",
      "50 40 70 20 60 80 "
     ]
    }
   ],
   "source": [
    "class TreeNode:\n",
    "    def __init__(self, key):\n",
    "        self.key = key\n",
    "        self.left = None\n",
    "        self.right = None\n",
    "\n",
    "def insert(root, key):\n",
    "    if not root:\n",
    "        return TreeNode(key)\n",
    "    if key < root.key:\n",
    "        root.left = insert(root.left, key)\n",
    "    elif key > root.key:\n",
    "        root.right = insert(root.right, key)\n",
    "    return root\n",
    "\n",
    "def delete(root, key):\n",
    "    if not root:\n",
    "        return root\n",
    "    if key < root.key:\n",
    "        root.left = delete(root.left, key)\n",
    "    elif key > root.key:\n",
    "        root.right = delete(root.right, key)\n",
    "    else:\n",
    "        if not root.left:\n",
    "            return root.right\n",
    "        elif not root.right:\n",
    "            return root.left\n",
    "        root.key = min_value_node(root.right)\n",
    "        root.right = delete(root.right, root.key)\n",
    "    return root\n",
    "\n",
    "def min_value_node(node):\n",
    "    while node.left:\n",
    "        node = node.left\n",
    "    return node.key\n",
    "\n",
    "def level_order_traversal(root):\n",
    "    if not root:\n",
    "        return\n",
    "\n",
    "    queue = [root]\n",
    "    while queue:\n",
    "        node = queue.pop(0)\n",
    "        print(node.key, end=\" \")\n",
    "\n",
    "        if node.left:\n",
    "            queue.append(node.left)\n",
    "        if node.right:\n",
    "            queue.append(node.right)\n",
    "\n",
    "# Creating an empty binary search tree\n",
    "root = None\n",
    "\n",
    "# Inserting nodes into the BST\n",
    "root = insert(root, 50)\n",
    "root = insert(root, 30)\n",
    "root = insert(root, 70)\n",
    "root = insert(root, 20)\n",
    "root = insert(root, 40)\n",
    "root = insert(root, 60)\n",
    "root = insert(root, 80)\n",
    "\n",
    "print(\"Level Order Traversal (Breadth-First Traversal):\")\n",
    "level_order_traversal(root)\n",
    "\n",
    "# Deleting a node (e.g., delete node with key 30)\n",
    "root = delete(root, 30)\n",
    "\n",
    "print(\"\\nLevel Order Traversal after deleting node with key 30:\")\n",
    "level_order_traversal(root)"
   ]
  }
 ],
 "metadata": {
  "kernelspec": {
   "display_name": "base",
   "language": "python",
   "name": "python3"
  },
  "language_info": {
   "codemirror_mode": {
    "name": "ipython",
    "version": 3
   },
   "file_extension": ".py",
   "mimetype": "text/x-python",
   "name": "python",
   "nbconvert_exporter": "python",
   "pygments_lexer": "ipython3",
   "version": "3.9.17"
  }
 },
 "nbformat": 4,
 "nbformat_minor": 2
}
