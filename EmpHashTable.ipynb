{
 "cells": [
  {
   "cell_type": "markdown",
   "metadata": {},
   "source": [
    "5. Write a program to insert N employee information into the Hash Table. Hash value should be the age of the employee. \n",
    "\n",
    "        a. Write a function to Search an Employee and display his details. \n",
    "        \n",
    "        b. Display the Average salary of Employees between the age 22 and 25.\n"
   ]
  },
  {
   "cell_type": "code",
   "execution_count": 1,
   "metadata": {},
   "outputs": [
    {
     "name": "stdout",
     "output_type": "stream",
     "text": [
      "Employees with age 25:\n",
      "Name: John, Salary: 50000\n",
      "Average Salary for employees between 22 and 25: 49000.0\n"
     ]
    }
   ],
   "source": [
    "class Employee:\n",
    "    def __init__(self, name, age, salary):\n",
    "        self.name = name\n",
    "        self.age = age\n",
    "        self.salary = salary\n",
    "\n",
    "def insert_into_hash_table(employees):\n",
    "    hash_table = {}\n",
    "    for employee in employees:\n",
    "        age = employee.age\n",
    "        if age in hash_table:\n",
    "            hash_table[age].append(employee)\n",
    "        else:\n",
    "            hash_table[age] = [employee]\n",
    "    return hash_table\n",
    "\n",
    "def search_employee(hash_table, age_to_lookup):\n",
    "    if age_to_lookup in hash_table:\n",
    "        return hash_table[age_to_lookup]\n",
    "    else:\n",
    "        return None\n",
    "\n",
    "def average_salary_between_ages(hash_table, min_age, max_age):\n",
    "    total_salary = 0\n",
    "    count = 0\n",
    "    for age in range(min_age, max_age + 1):\n",
    "        if age in hash_table:\n",
    "            for employee in hash_table[age]:\n",
    "                total_salary += employee.salary\n",
    "                count += 1\n",
    "    if count == 0:\n",
    "        return 0\n",
    "    return total_salary / count\n",
    "\n",
    "# Example usage:\n",
    "employees = [\n",
    "    Employee(\"John\", 25, 50000),\n",
    "    Employee(\"Alice\", 30, 60000),\n",
    "    Employee(\"Bob\", 22, 45000),\n",
    "    Employee(\"Eve\", 24, 52000),\n",
    "    # Add more employees as needed\n",
    "]\n",
    "\n",
    "hash_table = insert_into_hash_table(employees)\n",
    "\n",
    "# a. Search for an employee by age (e.g., age 25)\n",
    "age_to_lookup = 25  # Change this to the age you want to lookup\n",
    "found_employees = search_employee(hash_table, age_to_lookup)\n",
    "\n",
    "if found_employees:\n",
    "    print(f\"Employees with age {age_to_lookup}:\")\n",
    "    for employee in found_employees:\n",
    "        print(f\"Name: {employee.name}, Salary: {employee.salary}\")\n",
    "else:\n",
    "    print(f\"No employees found with age {age_to_lookup}\")\n",
    "\n",
    "# b. Calculate and display the average salary for employees between ages 22 and 25\n",
    "min_age = 22\n",
    "max_age = 25\n",
    "average_salary = average_salary_between_ages(hash_table, min_age, max_age)\n",
    "print(f\"Average Salary for employees between {min_age} and {max_age}: {average_salary}\")"
   ]
  }
 ],
 "metadata": {
  "kernelspec": {
   "display_name": "pycaretenv",
   "language": "python",
   "name": "python3"
  },
  "language_info": {
   "codemirror_mode": {
    "name": "ipython",
    "version": 3
   },
   "file_extension": ".py",
   "mimetype": "text/x-python",
   "name": "python",
   "nbconvert_exporter": "python",
   "pygments_lexer": "ipython3",
   "version": "3.9.17"
  }
 },
 "nbformat": 4,
 "nbformat_minor": 2
}
