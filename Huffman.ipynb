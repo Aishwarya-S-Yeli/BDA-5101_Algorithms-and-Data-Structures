{
 "cells": [
  {
   "cell_type": "markdown",
   "metadata": {},
   "source": [
    "10. Implement Huffman coding."
   ]
  },
  {
   "cell_type": "code",
   "execution_count": 1,
   "metadata": {},
   "outputs": [
    {
     "name": "stdout",
     "output_type": "stream",
     "text": [
      "Encoded data: 0101001001001001010110010010101111100010111100111011110011100000110111101011101110010110010101001100011011101001111110001011110000011111100101011100100010001\n",
      "Decoded data: this is an example for huffman encoding\n"
     ]
    }
   ],
   "source": [
    "import heapq\n",
    "from collections import defaultdict\n",
    "\n",
    "class HuffmanNode:\n",
    "    def __init__(self, char, freq):\n",
    "        self.char = char\n",
    "        self.freq = freq\n",
    "        self.left = None\n",
    "        self.right = None\n",
    "\n",
    "    def __lt__(self, other):\n",
    "        return self.freq < other.freq\n",
    "\n",
    "def build_huffman_tree(data):\n",
    "    frequency = defaultdict(int)\n",
    "    for char in data:\n",
    "        frequency[char] += 1\n",
    "\n",
    "    min_heap = [HuffmanNode(char, freq) for char, freq in frequency.items()]\n",
    "    heapq.heapify(min_heap)\n",
    "\n",
    "    while len(min_heap) > 1:\n",
    "        left = heapq.heappop(min_heap)\n",
    "        right = heapq.heappop(min_heap)\n",
    "        merged_node = HuffmanNode(None, left.freq + right.freq)\n",
    "        merged_node.left = left\n",
    "        merged_node.right = right\n",
    "        heapq.heappush(min_heap, merged_node)\n",
    "\n",
    "    return min_heap[0]\n",
    "\n",
    "def build_huffman_codes(root, current_code, huffman_codes):\n",
    "    if root is None:\n",
    "        return\n",
    "\n",
    "    if root.char:\n",
    "        huffman_codes[root.char] = current_code\n",
    "        return\n",
    "\n",
    "    build_huffman_codes(root.left, current_code + \"0\", huffman_codes)\n",
    "    build_huffman_codes(root.right, current_code + \"1\", huffman_codes)\n",
    "\n",
    "def huffman_encoding(data):\n",
    "    if len(data) == 0:\n",
    "        return None, None\n",
    "\n",
    "    root = build_huffman_tree(data)\n",
    "    huffman_codes = {}\n",
    "    build_huffman_codes(root, \"\", huffman_codes)\n",
    "\n",
    "    encoded_data = \"\".join(huffman_codes[char] for char in data)\n",
    "    return encoded_data, root\n",
    "\n",
    "def huffman_decoding(encoded_data, root):\n",
    "    if len(encoded_data) == 0:\n",
    "        return \"\"\n",
    "\n",
    "    current_node = root\n",
    "    decoded_data = \"\"\n",
    "    for bit in encoded_data:\n",
    "        if bit == \"0\":\n",
    "            current_node = current_node.left\n",
    "        else:\n",
    "            current_node = current_node.right\n",
    "\n",
    "        if current_node.char:\n",
    "            decoded_data += current_node.char\n",
    "            current_node = root\n",
    "\n",
    "    return decoded_data\n",
    "\n",
    "# Example usage:\n",
    "data = \"this is an example for huffman encoding\"\n",
    "\n",
    "# Encode the data\n",
    "encoded_data, huffman_tree = huffman_encoding(data)\n",
    "print(\"Encoded data:\", encoded_data)\n",
    "\n",
    "# Decode the encoded data\n",
    "decoded_data = huffman_decoding(encoded_data, huffman_tree)\n",
    "print(\"Decoded data:\", decoded_data)"
   ]
  }
 ],
 "metadata": {
  "kernelspec": {
   "display_name": "pycaretenv",
   "language": "python",
   "name": "python3"
  },
  "language_info": {
   "codemirror_mode": {
    "name": "ipython",
    "version": 3
   },
   "file_extension": ".py",
   "mimetype": "text/x-python",
   "name": "python",
   "nbconvert_exporter": "python",
   "pygments_lexer": "ipython3",
   "version": "3.9.17"
  }
 },
 "nbformat": 4,
 "nbformat_minor": 2
}
