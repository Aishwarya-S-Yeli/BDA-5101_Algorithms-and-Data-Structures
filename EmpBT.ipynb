{
 "cells": [
  {
   "cell_type": "markdown",
   "metadata": {},
   "source": [
    "3. Write a program to insert N employee information into the Binary tree. Write a function to \n",
    "\n",
    "        a. Search an Employee and display his details.\n",
    "\n",
    "        b. Display the Average salary of Employees between the age 20 and 25. "
   ]
  },
  {
   "cell_type": "code",
   "execution_count": 1,
   "metadata": {},
   "outputs": [
    {
     "name": "stdout",
     "output_type": "stream",
     "text": [
      "Employee Found: John Age: 25 Salary: 50000\n",
      "Average Salary for employees between 20 and 25: 49000.0\n"
     ]
    }
   ],
   "source": [
    "class Employee:\n",
    "    def __init__(self, name, age, salary):\n",
    "        self.name = name\n",
    "        self.age = age\n",
    "        self.salary = salary\n",
    "        self.left = None\n",
    "        self.right = None\n",
    "\n",
    "class BinaryTree:\n",
    "    def __init__(self):\n",
    "        self.root = None\n",
    "\n",
    "    def insert(self, employee):\n",
    "        self.root = self._insert(self.root, employee)\n",
    "\n",
    "    def _insert(self, node, employee):\n",
    "        if not node:\n",
    "            return Employee(employee.name, employee.age, employee.salary)\n",
    "        if employee.age < node.age:\n",
    "            node.left = self._insert(node.left, employee)\n",
    "        else:\n",
    "            node.right = self._insert(node.right, employee)\n",
    "        return node\n",
    "\n",
    "    def search_employee(self, age):\n",
    "        return self._search_employee(self.root, age)\n",
    "\n",
    "    def _search_employee(self, node, age):\n",
    "        if not node:\n",
    "            return None\n",
    "        if node.age == age:\n",
    "            return node\n",
    "        if age < node.age:\n",
    "            return self._search_employee(node.left, age)\n",
    "        return self._search_employee(node.right, age)\n",
    "\n",
    "    def calculate_average_salary(self, node, min_age, max_age, total_salary, count):\n",
    "        if not node:\n",
    "            return\n",
    "        if min_age <= node.age <= max_age:\n",
    "            total_salary[0] += node.salary\n",
    "            count[0] += 1\n",
    "        if node.age > min_age:\n",
    "            self.calculate_average_salary(node.left, min_age, max_age, total_salary, count)\n",
    "        if node.age < max_age:\n",
    "            self.calculate_average_salary(node.right, min_age, max_age, total_salary, count)\n",
    "\n",
    "    def average_salary_between_ages(self, min_age, max_age):\n",
    "        total_salary = [0]\n",
    "        count = [0]\n",
    "        self.calculate_average_salary(self.root, min_age, max_age, total_salary, count)\n",
    "        if count[0] == 0:\n",
    "            return 0\n",
    "        return total_salary[0] / count[0]\n",
    "\n",
    "# Example usage:\n",
    "tree = BinaryTree()\n",
    "\n",
    "# Insert N employee information\n",
    "employees = [\n",
    "    Employee(\"John\", 25, 50000),\n",
    "    Employee(\"Alice\", 30, 60000),\n",
    "    Employee(\"Bob\", 22, 45000),\n",
    "    Employee(\"Eve\", 24, 52000),\n",
    "    # Add more employees as needed\n",
    "]\n",
    "\n",
    "for employee in employees:\n",
    "    tree.insert(employee)\n",
    "\n",
    "# a. Search for an employee by age (e.g., age 25)\n",
    "age_to_lookup = 25\n",
    "found_employee = tree.search_employee(age_to_lookup)\n",
    "\n",
    "if found_employee:\n",
    "    print(\"Employee Found:\", found_employee.name, \"Age:\", found_employee.age, \"Salary:\", found_employee.salary)\n",
    "else:\n",
    "    print(\"Employee not found\")\n",
    "\n",
    "# b. Calculate and display the average salary for employees between ages 20 and 25\n",
    "min_age = 20\n",
    "max_age = 25\n",
    "average_salary = tree.average_salary_between_ages(min_age, max_age)\n",
    "print(\"Average Salary for employees between 20 and 25:\", average_salary)"
   ]
  }
 ],
 "metadata": {
  "kernelspec": {
   "display_name": "pycaretenv",
   "language": "python",
   "name": "python3"
  },
  "language_info": {
   "codemirror_mode": {
    "name": "ipython",
    "version": 3
   },
   "file_extension": ".py",
   "mimetype": "text/x-python",
   "name": "python",
   "nbconvert_exporter": "python",
   "pygments_lexer": "ipython3",
   "version": "3.9.17"
  }
 },
 "nbformat": 4,
 "nbformat_minor": 2
}
