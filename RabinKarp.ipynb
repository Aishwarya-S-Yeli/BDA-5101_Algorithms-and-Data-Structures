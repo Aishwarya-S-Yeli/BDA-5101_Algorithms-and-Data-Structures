{
 "cells": [
  {
   "cell_type": "markdown",
   "metadata": {},
   "source": [
    "9. Implement Rabin-Karp algorithm for string-matching."
   ]
  },
  {
   "cell_type": "code",
   "execution_count": 1,
   "metadata": {},
   "outputs": [
    {
     "name": "stdout",
     "output_type": "stream",
     "text": [
      "Pattern found at index(s): [0, 5]\n"
     ]
    }
   ],
   "source": [
    "def rabin_karp(text, pattern):\n",
    "    prime = 101  # A prime number used as the base for hashing\n",
    "    d = 256  # Number of possible characters (ASCII characters)\n",
    "\n",
    "    M = len(pattern)\n",
    "    N = len(text)\n",
    "    p = 0  # Hash value for the pattern\n",
    "    t = 0  # Hash value for the current text window\n",
    "\n",
    "    h = pow(d, M - 1) % prime  # Precompute h, which is (d^(M-1)) % prime\n",
    "\n",
    "    result = []\n",
    "\n",
    "    # Calculate the hash values of the pattern and the first window of text\n",
    "    for i in range(M):\n",
    "        p = (d * p + ord(pattern[i])) % prime\n",
    "        t = (d * t + ord(text[i])) % prime\n",
    "\n",
    "    # Slide the pattern over the text one by one\n",
    "    for i in range(N - M + 1):\n",
    "        # Check if the hash values match, and if they do, perform a full string comparison\n",
    "        if p == t:\n",
    "            if pattern == text[i : i + M]:\n",
    "                result.append(i)\n",
    "\n",
    "        # Calculate the hash value for the next text window\n",
    "        if i < N - M:\n",
    "            t = (d * (t - ord(text[i]) * h) + ord(text[i + M])) % prime\n",
    "            if t < 0:\n",
    "                t += prime\n",
    "\n",
    "    return result\n",
    "\n",
    "# Example usage:\n",
    "text = \"ABABCABAB\"\n",
    "pattern = \"ABAB\"\n",
    "result = rabin_karp(text, pattern)\n",
    "\n",
    "if result:\n",
    "    print(\"Pattern found at index(s):\", result)\n",
    "else:\n",
    "        print(\"Pattern not found in the text.\")"
   ]
  }
 ],
 "metadata": {
  "kernelspec": {
   "display_name": "pycaretenv",
   "language": "python",
   "name": "python3"
  },
  "language_info": {
   "codemirror_mode": {
    "name": "ipython",
    "version": 3
   },
   "file_extension": ".py",
   "mimetype": "text/x-python",
   "name": "python",
   "nbconvert_exporter": "python",
   "pygments_lexer": "ipython3",
   "version": "3.9.17"
  }
 },
 "nbformat": 4,
 "nbformat_minor": 2
}
